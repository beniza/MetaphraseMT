{
 "cells": [
  {
   "cell_type": "markdown",
   "metadata": {},
   "source": [
    "# MetaphraseMT ™"
   ]
  },
  {
   "cell_type": "markdown",
   "metadata": {},
   "source": [
    "**MetaphraseMT™ `(mmt)`** is a command line tool for machine assisted translation. It is designed to handle the preservation of the source language formatting and seemless integration with popular machine translation apis. It can also (optionally) use to fine-tune the translation based on a `Translation Memory (TM)` file."
   ]
  },
  {
   "cell_type": "markdown",
   "metadata": {},
   "source": [
    "## Modules"
   ]
  },
  {
   "cell_type": "markdown",
   "metadata": {},
   "source": [
    "This tool uses a modular approach for handling the tasks. In other words, mmt is designed as a unit of several smaller modules and mmt will call the appropriate module(s) for the translation based on the options selected by the users (or detected by the engine)."
   ]
  },
  {
   "cell_type": "markdown",
   "metadata": {},
   "source": [
    "### translationWords Module"
   ]
  },
  {
   "cell_type": "markdown",
   "metadata": {},
   "source": [
    "This module can be called to translate the translationWords by the [unfoldingword.org](https://unfoldingword.org/tw/). "
   ]
  },
  {
   "cell_type": "markdown",
   "metadata": {},
   "source": [
    "#### translastionwords_to_json"
   ]
  },
  {
   "cell_type": "markdown",
   "metadata": {},
   "source": [
    "The translationwords_to_json will convert a translation word file into a json file. \n",
    "\n",
    "  - Input: translation word document in .md format\n",
    "  - Output: translation word document in .json format "
   ]
  },
  {
   "cell_type": "markdown",
   "metadata": {},
   "source": [
    "##### translationWord sample file"
   ]
  },
  {
   "cell_type": "markdown",
   "metadata": {},
   "source": [
    "# Aaron #\n",
    "\n",
    "## Facts: ##\n",
    "\n",
    "Aaron was Moses' older brother. God chose Aaron to be the first high priest for the people of Israel.\n",
    "\n",
    "* Aaron helped Moses speak to Pharaoh about letting the Israelites go free.\n",
    "* While the Israelites were traveling through the desert, Aaron sinned by making an idol for the people to worship.\n",
    "* God also appointed Aaron and his descendants to be the [priest](../kt/priest.md) priests for the people of Israel.\n",
    "\n",
    "(Translation suggestions: [How to Translate Names](rc://en/ta/man/translate/translate-names))\n",
    "\n",
    "(See also: [priest](../kt/priest.md), [Moses](../names/moses.md), [Israel](../kt/israel.md))\n",
    "\n",
    "## Bible References: ##\n",
    "\n",
    "* [1 Chronicles 23:12-14](rc://en/tn/help/1ch/23/12)\n",
    "* [Acts 07:38-40](rc://en/tn/help/act/07/38)\n",
    "* [Exodus 28:1-3](rc://en/tn/help/exo/28/01)\n",
    "* [Luke 01:5-7](rc://en/tn/help/luk/01/05)\n",
    "* [Numbers 16:44-46](rc://en/tn/help/num/16/44)\n",
    "\n",
    "## Examples from the Bible stories: ##\n",
    "\n",
    "* __[09:15](rc://en/tn/help/obs/09/15)__ God warned Moses and __Aaron__  that Pharaoh would be stubborn.\n",
    "* __[10:05](rc://en/tn/help/obs/10/05)__ Pharaoh called Moses and __Aaron__  and told them that if they stopped the plague, the Israelites could leave Egypt.\n",
    "* __[13:09](rc://en/tn/help/obs/13/09)__ God chose Moses' brother, __Aaron__, and Aaron's descendants to be his priests.\n",
    "* __[13:11](rc://en/tn/help/obs/13/11)__ So they (the Israelites) brought gold to __Aaron__  and asked him to form it into an idol for them!\n",
    "* __[14:07](rc://en/tn/help/obs/14/07)__ They (the Israelites) became angry with Moses and __Aaron__  and said, \"Oh, why did you bring us to this horrible place?\"\n",
    "\n",
    "## Word Data:##\n",
    "\n",
    "* Strong's: H175, G2"
   ]
  }
 ],
 "metadata": {
  "kernelspec": {
   "display_name": "Python 3",
   "language": "python",
   "name": "python3"
  },
  "language_info": {
   "codemirror_mode": {
    "name": "ipython",
    "version": 3
   },
   "file_extension": ".py",
   "mimetype": "text/x-python",
   "name": "python",
   "nbconvert_exporter": "python",
   "pygments_lexer": "ipython3",
   "version": "3.6.0"
  }
 },
 "nbformat": 4,
 "nbformat_minor": 2
}
