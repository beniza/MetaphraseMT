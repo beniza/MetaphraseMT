{
 "cells": [
  {
   "cell_type": "markdown",
   "metadata": {},
   "source": [
    "# MetaphraseMT ™"
   ]
  },
  {
   "cell_type": "markdown",
   "metadata": {},
   "source": [
    "**MetaphraseMT™ `(mmt)`** is a command line tool for machine assisted translation. It is designed to handle the preservation of the source language formatting and seemless integration with popular machine translation apis. It can also (optionally) use to fine-tune the translation based on a `Translation Memory (TM)` file."
   ]
  },
  {
   "cell_type": "markdown",
   "metadata": {},
   "source": [
    "## Modules"
   ]
  },
  {
   "cell_type": "markdown",
   "metadata": {},
   "source": [
    "This tool uses a modular approach for handling the tasks. In other words, mmt is designed as a unit of several smaller modules and mmt will call the appropriate module(s) for the translation based on the options selected by the users (or detected by the engine)."
   ]
  }
 ],
 "metadata": {
  "kernelspec": {
   "display_name": "Python 3",
   "language": "python",
   "name": "python3"
  },
  "language_info": {
   "codemirror_mode": {
    "name": "ipython",
    "version": 3
   },
   "file_extension": ".py",
   "mimetype": "text/x-python",
   "name": "python",
   "nbconvert_exporter": "python",
   "pygments_lexer": "ipython3",
   "version": "3.6.0"
  }
 },
 "nbformat": 4,
 "nbformat_minor": 2
}
